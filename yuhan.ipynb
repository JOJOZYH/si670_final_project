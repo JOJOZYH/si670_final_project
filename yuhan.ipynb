{
 "cells": [
  {
   "cell_type": "markdown",
   "metadata": {},
   "source": [
    "# Outline\n",
    "    preprocessing\n",
    "        impute base on 2 hour avg\n",
    "        shift 1 - 12 columns\n",
    "        feature engineering\n",
    "    trainning\n",
    "        model (Nested CV) for each hour, drop specific columns since pm2.5 column with missing value are different for each hour\n",
    "            Stack\n",
    "                knn\n",
    "                rf\n",
    "                LR\n",
    "                XGBoost\n",
    "                SVM"
   ]
  },
  {
   "cell_type": "markdown",
   "metadata": {},
   "source": [
    "Yes, you can rank the most predictive features without retraining the model, provided your trained model supports feature importance retrieval. Here's how you can do it depending on the type of model you're using:\n",
    "\n",
    "---\n",
    "\n",
    "### **1. Tree-Based Models (e.g., Random Forest, XGBoost)**\n",
    "Tree-based models inherently compute feature importance during training, so you can directly access this information.\n",
    "\n",
    "#### **Accessing Feature Importance**\n",
    "```python\n",
    "# Assuming 'model' is your trained Random Forest or XGBoost model\n",
    "importances = model.feature_importances_\n",
    "\n",
    "# Get feature names if available (for pipelines, extract preprocessed features)\n",
    "feature_names = X_train.columns  # or use the pipeline step output if transformed\n",
    "\n",
    "# Pair feature names with their importance\n",
    "feature_importance = list(zip(feature_names, importances))\n",
    "\n",
    "# Sort features by importance\n",
    "sorted_features = sorted(feature_importance, key=lambda x: x[1], reverse=True)\n",
    "print(\"Ranked Features by Importance:\")\n",
    "for feature, importance in sorted_features:\n",
    "    print(f\"{feature}: {importance:.4f}\")\n",
    "```\n",
    "\n",
    "---\n",
    "\n",
    "### **2. Logistic Regression**\n",
    "Logistic regression uses weights (coefficients) to determine the influence of features. You can rank features by the magnitude of their coefficients.\n",
    "\n",
    "#### **Accessing Feature Coefficients**\n",
    "```python\n",
    "# Assuming 'model' is your trained Logistic Regression model\n",
    "coefficients = model.coef_[0]  # Access the coefficients for the positive class\n",
    "\n",
    "# Pair feature names with their coefficients\n",
    "feature_importance = list(zip(feature_names, coefficients))\n",
    "\n",
    "# Sort features by absolute coefficient value\n",
    "sorted_features = sorted(feature_importance, key=lambda x: abs(x[1]), reverse=True)\n",
    "print(\"Ranked Features by Coefficient Magnitude:\")\n",
    "for feature, coefficient in sorted_features:\n",
    "    print(f\"{feature}: {coefficient:.4f}\")\n",
    "```\n",
    "\n",
    "---\n",
    "\n",
    "### **3. SVM (with Linear Kernel)**\n",
    "For linear SVMs, you can access the coefficients of the decision boundary, similar to logistic regression.\n",
    "\n",
    "#### **Accessing Feature Coefficients**\n",
    "```python\n",
    "# Assuming 'model' is your trained SVC with a linear kernel\n",
    "coefficients = model.coef_[0]  # Access the coefficients\n",
    "\n",
    "# Pair feature names with their coefficients\n",
    "feature_importance = list(zip(feature_names, coefficients))\n",
    "\n",
    "# Sort features by absolute coefficient value\n",
    "sorted_features = sorted(feature_importance, key=lambda x: abs(x[1]), reverse=True)\n",
    "print(\"Ranked Features by Coefficient Magnitude:\")\n",
    "for feature, coefficient in sorted_features:\n",
    "    print(f\"{feature}: {coefficient:.4f}\")\n",
    "```\n",
    "\n",
    "---\n",
    "\n",
    "### **4. K-Nearest Neighbors (KNN)**\n",
    "KNN does not compute feature importance inherently because it is a non-parametric model. However, you can estimate feature importance using techniques like permutation importance or feature contribution analysis.\n",
    "\n",
    "#### **Permutation Importance**\n",
    "Permutation importance involves shuffling a feature's values and measuring the impact on model performance.\n",
    "\n",
    "```python\n",
    "from sklearn.inspection import permutation_importance\n",
    "\n",
    "# Assuming 'model' is your trained KNN model\n",
    "result = permutation_importance(model, X_test, y_test, n_repeats=10, random_state=1)\n",
    "\n",
    "# Get feature importances\n",
    "importances = result.importances_mean\n",
    "\n",
    "# Pair feature names with their importances\n",
    "feature_importance = list(zip(feature_names, importances))\n",
    "\n",
    "# Sort features by importance\n",
    "sorted_features = sorted(feature_importance, key=lambda x: x[1], reverse=True)\n",
    "print(\"Ranked Features by Permutation Importance:\")\n",
    "for feature, importance in sorted_features:\n",
    "    print(f\"{feature}: {importance:.4f}\")\n",
    "```\n",
    "\n",
    "---\n",
    "\n",
    "### **5. Using SHAP (Model-Agnostic Feature Importance)**\n",
    "**SHAP (SHapley Additive exPlanations)** is a popular method for explaining predictions and analyzing feature importance across any model.\n",
    "\n",
    "#### **Example with SHAP**\n",
    "```python\n",
    "import shap\n",
    "\n",
    "# Create a SHAP explainer (model-agnostic or model-specific)\n",
    "explainer = shap.Explainer(model, X_train)\n",
    "\n",
    "# Compute SHAP values\n",
    "shap_values = explainer(X_test)\n",
    "\n",
    "# Plot feature importance\n",
    "shap.summary_plot(shap_values, X_test)\n",
    "```\n",
    "\n",
    "---\n",
    "\n",
    "### **6. Feature Importance in a Pipeline**\n",
    "If you are using a pipeline, ensure you extract the feature names after preprocessing to match the transformed data.\n",
    "\n",
    "#### **Extracting Feature Names from a Pipeline**\n",
    "```python\n",
    "# Get the preprocessor step\n",
    "preprocessor = pipeline.named_steps['preprocessor']\n",
    "\n",
    "# Retrieve feature names after preprocessing\n",
    "feature_names = preprocessor.transformers_[0][2]  # Adjust index based on transformers\n",
    "\n",
    "# Access feature importance as shown earlier for your model\n",
    "```\n",
    "\n",
    "---\n",
    "\n",
    "### **Conclusion**\n",
    "- **Tree-based models** and **linear models** provide direct access to feature importance through attributes like `.feature_importances_` or `.coef_`.\n",
    "- **Non-parametric models (e.g., KNN)** require additional techniques like permutation importance or SHAP.\n",
    "- You can extract and rank feature importance directly from the trained model, avoiding retraining.\n",
    "\n",
    "If you'd like, I can help implement this based on your specific model or data!"
   ]
  },
  {
   "cell_type": "code",
   "execution_count": 78,
   "metadata": {
    "ExecuteTime": {
     "end_time": "2024-12-03T01:00:41.037241Z",
     "start_time": "2024-12-03T01:00:40.470194Z"
    }
   },
   "outputs": [],
   "source": [
    "import pandas as pd\n",
    "\n",
    "file_path = 'data/data.csv'\n",
    "data = pd.read_csv(file_path, index_col=0)"
   ]
  },
  {
   "cell_type": "markdown",
   "metadata": {},
   "source": [
    "## data visuallization"
   ]
  },
  {
   "cell_type": "code",
   "execution_count": 79,
   "metadata": {
    "ExecuteTime": {
     "end_time": "2024-12-03T01:00:43.112592Z",
     "start_time": "2024-12-03T01:00:42.290869Z"
    }
   },
   "outputs": [
    {
     "data": {
      "image/png": "[encoded data removed]",
      "text/plain": [
       "<Figure size 640x480 with 1 Axes>"
      ]
     },
     "metadata": {},
     "output_type": "display_data"
    }
   ],
   "source": [
    "import matplotlib.pyplot as plt\n",
    "\n",
    "# Adjusted the number of bins to be finer (thinner) by increasing the number\n",
    "data['pm2.5'].plot(kind='hist', bins=50, density=True, title='Histogram with Density of PM2.5')\n",
    "plt.xlabel('PM2.5')\n",
    "plt.ylabel('Density')\n",
    "plt.axvline(x=50, color='r', linestyle='--', label='PM2.5 = 50')\n",
    "plt.axvline(x=300, color='b', linestyle='--', label='PM2.5 = 100')\n",
    "plt.legend()\n",
    "plt.show()"
   ]
  },
  {
   "cell_type": "code",
   "execution_count": 80,
   "metadata": {
    "ExecuteTime": {
     "end_time": "2024-12-03T01:00:43.141962Z",
     "start_time": "2024-12-03T01:00:43.132663Z"
    }
   },
   "outputs": [
    {
     "name": "stdout",
     "output_type": "stream",
     "text": [
      "Percentage of PM2.5 values >= 50: 59.49%\n",
      "Percentage of PM2.5 values >= 300: 4.05%\n"
     ]
    }
   ],
   "source": [
    "# Calculate the percentage of pm2.5 values greater than or equal to 50\n",
    "pm25_gte_50 = (data['pm2.5'] >= 50).mean() * 100\n",
    "print(f\"Percentage of PM2.5 values >= 50: {pm25_gte_50:.2f}%\")\n",
    "\n",
    "# Calculate the percentage of pm2.5 values greater than or equal to 100\n",
    "pm25_gte_100 = (data['pm2.5'] >= 300).mean() * 100\n",
    "print(f\"Percentage of PM2.5 values >= 300: {pm25_gte_100:.2f}%\")"
   ]
  },
  {
   "cell_type": "code",
   "execution_count": 81,
   "metadata": {
    "ExecuteTime": {
     "end_time": "2024-12-03T01:00:43.204245Z",
     "start_time": "2024-12-03T01:00:43.191021Z"
    }
   },
   "outputs": [
    {
     "data": {
      "text/plain": [
       "Series([], dtype: int64)"
      ]
     },
     "execution_count": 81,
     "metadata": {},
     "output_type": "execute_result"
    }
   ],
   "source": [
    "daily_hour_counts = data.groupby(['year', 'month', 'day']).size()\n",
    "missing_hours = daily_hour_counts[daily_hour_counts != 24]\n",
    "missing_hours\n",
    "# no missing hours"
   ]
  },
  {
   "cell_type": "markdown",
   "metadata": {},
   "source": [
    "## preprocessing"
   ]
  },
  {
   "cell_type": "code",
   "execution_count": 82,
   "metadata": {
    "ExecuteTime": {
     "end_time": "2024-12-03T01:00:44.369026Z",
     "start_time": "2024-12-03T01:00:44.348661Z"
    }
   },
   "outputs": [],
   "source": [
    "data['pm2.5'] = data['pm2.5'].interpolate()"
   ]
  },
  {
   "cell_type": "code",
   "execution_count": 83,
   "metadata": {
    "ExecuteTime": {
     "end_time": "2024-12-03T01:00:44.871359Z",
     "start_time": "2024-12-03T01:00:44.832800Z"
    }
   },
   "outputs": [],
   "source": [
    "# Creating 12 new columns for future PM2.5 levels, 1 hour to 12 hours ahead\n",
    "for i in range(1, 13):\n",
    "    data[f'pm2.5_{i}_hour_after'] = data['pm2.5'].shift(-i)\n",
    "\n",
    "# One-hot encode the 'cbwd' column\n",
    "data = pd.get_dummies(data, columns=['cbwd'])"
   ]
  },
  {
   "cell_type": "code",
   "execution_count": 84,
   "metadata": {
    "ExecuteTime": {
     "end_time": "2024-12-03T01:00:45.418342Z",
     "start_time": "2024-12-03T01:00:45.392592Z"
    }
   },
   "outputs": [
    {
     "name": "stdout",
     "output_type": "stream",
     "text": [
      "missing rows before: 36\n"
     ]
    }
   ],
   "source": [
    "# Calculate the total number of rows with any missing values before dropping\n",
    "missing_rows_before = data.isna().any(axis=1).sum()\n",
    "print(f'missing rows before: {missing_rows_before}')\n",
    "# Drop rows where any cell from 'pm2.5' to 'pm2.5_12_hour_after' is missing\n",
    "data.dropna(subset=['pm2.5'] + [f'pm2.5_{i}_hour_after' for i in range(1, 13)], inplace=True)"
   ]
  },
  {
   "cell_type": "code",
   "execution_count": 85,
   "metadata": {
    "ExecuteTime": {
     "end_time": "2024-12-03T01:00:46.776926Z",
     "start_time": "2024-12-03T01:00:46.767887Z"
    }
   },
   "outputs": [
    {
     "name": "stdout",
     "output_type": "stream",
     "text": [
      "Training Data Size: 21894\n",
      "Test Data Size: 15325\n"
     ]
    }
   ],
   "source": [
    "# Calculate the index to split the data at 85% for training and 15% for testing\n",
    "split_index_train = int(len(data) * 0.5)\n",
    "split_index_test = int(len(data) * 0.85)\n",
    "\n",
    "\n",
    "# Split the data into training and test sets\n",
    "data_train = data.iloc[:split_index_train]\n",
    "data_test = data.iloc[split_index_train:split_index_test]\n",
    "\n",
    "# Displaying sizes of the new datasets\n",
    "print(f\"Training Data Size: {data_train.shape[0]}\")\n",
    "print(f\"Test Data Size: {data_test.shape[0]}\")"
   ]
  },
  {
   "cell_type": "code",
   "execution_count": 86,
   "metadata": {
    "ExecuteTime": {
     "end_time": "2024-12-03T01:00:51.403030Z",
     "start_time": "2024-12-03T01:00:51.393293Z"
    }
   },
   "outputs": [
    {
     "name": "stdout",
     "output_type": "stream",
     "text": [
      "year                   0\n",
      "month                  0\n",
      "day                    0\n",
      "hour                   0\n",
      "pm2.5                  0\n",
      "DEWP                   0\n",
      "TEMP                   0\n",
      "PRES                   0\n",
      "Iws                    0\n",
      "Is                     0\n",
      "Ir                     0\n",
      "pm2.5_1_hour_after     0\n",
      "pm2.5_2_hour_after     0\n",
      "pm2.5_3_hour_after     0\n",
      "pm2.5_4_hour_after     0\n",
      "pm2.5_5_hour_after     0\n",
      "pm2.5_6_hour_after     0\n",
      "pm2.5_7_hour_after     0\n",
      "pm2.5_8_hour_after     0\n",
      "pm2.5_9_hour_after     0\n",
      "pm2.5_10_hour_after    0\n",
      "pm2.5_11_hour_after    0\n",
      "pm2.5_12_hour_after    0\n",
      "cbwd_NE                0\n",
      "cbwd_NW                0\n",
      "cbwd_SE                0\n",
      "cbwd_cv                0\n",
      "dtype: int64\n"
     ]
    }
   ],
   "source": [
    "print(data_train.isnull().sum())"
   ]
  },
  {
   "cell_type": "code",
   "execution_count": 87,
   "metadata": {},
   "outputs": [],
   "source": [
    "from sklearn.compose import ColumnTransformer\n",
    "from sklearn.preprocessing import StandardScaler\n",
    "\n",
    "\n",
    "# Prepare training and test data (drop the labels and year columns)\n",
    "X_train = data_train.drop(columns=[f'pm2.5_{j}_hour_after' for j in range(1, 13)] + ['year'])\n",
    "X_test = data_test.drop(columns=[f'pm2.5_{j}_hour_after' for j in range(1, 13)] + ['year'])\n",
    "\n",
    "# Define numerical columns (replace these with the actual numerical column names in your dataset)\n",
    "numerical_columns = X_train.select_dtypes(include=['float64', 'int64']).columns\n",
    "\n",
    "# ColumnTransformer to normalize numerical columns\n",
    "preprocessor = ColumnTransformer(\n",
    "    transformers=[\n",
    "        ('num', StandardScaler(), numerical_columns)  # Normalize numerical columns\n",
    "    ],\n",
    "    remainder='passthrough'  # Keep other columns as is\n",
    ")"
   ]
  },
  {
   "cell_type": "markdown",
   "metadata": {},
   "source": [
    "## training\n",
    "    Note: the models in the notebook are fitted only once using predetermined hyperparameters from NestedCV, code with NCV are included also as scripts"
   ]
  },
  {
   "cell_type": "code",
   "execution_count": null,
   "metadata": {},
   "outputs": [],
   "source": []
  },
  {
   "cell_type": "code",
   "execution_count": 93,
   "metadata": {},
   "outputs": [],
   "source": [
    "import pandas as pd\n",
    "\n",
    "# List of classifiers\n",
    "classifiers = ['svc', 'rf', 'nn', 'xgb', 'logistic']\n",
    "predictions = {}\n",
    "\n",
    "# Load predictions from CSV files\n",
    "for clf in classifiers:\n",
    "    predictions[clf] = pd.read_csv(f'./outputs/{clf}_pred.csv')\n",
    "\n",
    "hourly_predictions = []\n",
    "\n",
    "for hour in range(1, 13):\n",
    "    df_hour = pd.DataFrame()\n",
    "    for clf in classifiers:\n",
    "        # Get predictions for the current hour\n",
    "        df_hour[clf] = predictions[clf].iloc[:, hour - 1].reset_index(drop=True)\n",
    "    # Add the true label from data_test\n",
    "    df_hour['True Label'] = data_test[f'pm2.5_{hour}_hour_after'].reset_index(drop=True)\n",
    "    # Append the DataFrame to the list\n",
    "    hourly_predictions.append(df_hour)"
   ]
  },
  {
   "cell_type": "code",
   "execution_count": null,
   "metadata": {},
   "outputs": [
    {
     "data": {
      "text/html": [
       "<div>\n",
       "<style scoped>\n",
       "    .dataframe tbody tr th:only-of-type {\n",
       "        vertical-align: middle;\n",
       "    }\n",
       "\n",
       "    .dataframe tbody tr th {\n",
       "        vertical-align: top;\n",
       "    }\n",
       "\n",
       "    .dataframe thead th {\n",
       "        text-align: right;\n",
       "    }\n",
       "</style>\n",
       "<table border=\"1\" class=\"dataframe\">\n",
       "  <thead>\n",
       "    <tr style=\"text-align: right;\">\n",
       "      <th></th>\n",
       "      <th>svc</th>\n",
       "      <th>rf</th>\n",
       "      <th>nn</th>\n",
       "      <th>xgb</th>\n",
       "      <th>logistic</th>\n",
       "      <th>True Label</th>\n",
       "    </tr>\n",
       "  </thead>\n",
       "  <tbody>\n",
       "    <tr>\n",
       "      <th>0</th>\n",
       "      <td>0</td>\n",
       "      <td>0</td>\n",
       "      <td>0</td>\n",
       "      <td>0</td>\n",
       "      <td>0</td>\n",
       "      <td>22.0</td>\n",
       "    </tr>\n",
       "    <tr>\n",
       "      <th>1</th>\n",
       "      <td>0</td>\n",
       "      <td>0</td>\n",
       "      <td>0</td>\n",
       "      <td>0</td>\n",
       "      <td>0</td>\n",
       "      <td>21.0</td>\n",
       "    </tr>\n",
       "    <tr>\n",
       "      <th>2</th>\n",
       "      <td>0</td>\n",
       "      <td>0</td>\n",
       "      <td>0</td>\n",
       "      <td>0</td>\n",
       "      <td>0</td>\n",
       "      <td>24.0</td>\n",
       "    </tr>\n",
       "    <tr>\n",
       "      <th>3</th>\n",
       "      <td>0</td>\n",
       "      <td>0</td>\n",
       "      <td>0</td>\n",
       "      <td>0</td>\n",
       "      <td>1</td>\n",
       "      <td>27.0</td>\n",
       "    </tr>\n",
       "    <tr>\n",
       "      <th>4</th>\n",
       "      <td>0</td>\n",
       "      <td>0</td>\n",
       "      <td>0</td>\n",
       "      <td>0</td>\n",
       "      <td>0</td>\n",
       "      <td>22.0</td>\n",
       "    </tr>\n",
       "    <tr>\n",
       "      <th>...</th>\n",
       "      <td>...</td>\n",
       "      <td>...</td>\n",
       "      <td>...</td>\n",
       "      <td>...</td>\n",
       "      <td>...</td>\n",
       "      <td>...</td>\n",
       "    </tr>\n",
       "    <tr>\n",
       "      <th>15320</th>\n",
       "      <td>1</td>\n",
       "      <td>1</td>\n",
       "      <td>1</td>\n",
       "      <td>0</td>\n",
       "      <td>1</td>\n",
       "      <td>103.0</td>\n",
       "    </tr>\n",
       "    <tr>\n",
       "      <th>15321</th>\n",
       "      <td>1</td>\n",
       "      <td>1</td>\n",
       "      <td>1</td>\n",
       "      <td>0</td>\n",
       "      <td>1</td>\n",
       "      <td>119.0</td>\n",
       "    </tr>\n",
       "    <tr>\n",
       "      <th>15322</th>\n",
       "      <td>1</td>\n",
       "      <td>1</td>\n",
       "      <td>1</td>\n",
       "      <td>0</td>\n",
       "      <td>1</td>\n",
       "      <td>121.0</td>\n",
       "    </tr>\n",
       "    <tr>\n",
       "      <th>15323</th>\n",
       "      <td>1</td>\n",
       "      <td>1</td>\n",
       "      <td>1</td>\n",
       "      <td>0</td>\n",
       "      <td>1</td>\n",
       "      <td>113.0</td>\n",
       "    </tr>\n",
       "    <tr>\n",
       "      <th>15324</th>\n",
       "      <td>1</td>\n",
       "      <td>1</td>\n",
       "      <td>1</td>\n",
       "      <td>0</td>\n",
       "      <td>1</td>\n",
       "      <td>124.0</td>\n",
       "    </tr>\n",
       "  </tbody>\n",
       "</table>\n",
       "<p>15325 rows × 6 columns</p>\n",
       "</div>"
      ],
      "text/plain": [
       "       svc  rf  nn  xgb  logistic  True Label\n",
       "0        0   0   0    0         0        22.0\n",
       "1        0   0   0    0         0        21.0\n",
       "2        0   0   0    0         0        24.0\n",
       "3        0   0   0    0         1        27.0\n",
       "4        0   0   0    0         0        22.0\n",
       "...    ...  ..  ..  ...       ...         ...\n",
       "15320    1   1   1    0         1       103.0\n",
       "15321    1   1   1    0         1       119.0\n",
       "15322    1   1   1    0         1       121.0\n",
       "15323    1   1   1    0         1       113.0\n",
       "15324    1   1   1    0         1       124.0\n",
       "\n",
       "[15325 rows x 6 columns]"
      ]
     },
     "execution_count": 97,
     "metadata": {},
     "output_type": "execute_result"
    }
   ],
   "source": []
  },
  {
   "cell_type": "code",
   "execution_count": null,
   "metadata": {},
   "outputs": [],
   "source": []
  }
 ],
 "metadata": {
  "kernelspec": {
   "display_name": "python310",
   "language": "python",
   "name": "python3"
  },
  "language_info": {
   "codemirror_mode": {
    "name": "ipython",
    "version": 3
   },
   "file_extension": ".py",
   "mimetype": "text/x-python",
   "name": "python",
   "nbconvert_exporter": "python",
   "pygments_lexer": "ipython3",
   "version": "3.10.15"
  }
 },
 "nbformat": 4,
 "nbformat_minor": 2
}
