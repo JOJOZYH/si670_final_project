{
 "cells": [
  {
   "cell_type": "code",
   "execution_count": null,
   "metadata": {},
   "outputs": [],
   "source": [
    "import pandas as pd\n",
    "import numpy as np\n",
    "\n",
    "# Visualization\n",
    "import matplotlib.pyplot as plt\n",
    "import seaborn as sns\n",
    "\n",
    "# Machine Learning Models\n",
    "from sklearn.model_selection import train_test_split, GridSearchCV, cross_val_score\n",
    "from sklearn.preprocessing import LabelEncoder, StandardScaler\n",
    "from sklearn.metrics import f1_score, roc_auc_score, classification_report, roc_curve, auc\n",
    "from sklearn.ensemble import RandomForestClassifier, VotingClassifier\n",
    "from sklearn.linear_model import LogisticRegression\n",
    "from sklearn.neighbors import KNeighborsClassifier\n",
    "import xgboost as xgb\n",
    "\n",
    "# Ignore warnings\n",
    "import warnings\n",
    "warnings.filterwarnings('ignore')"
   ]
  },
  {
   "cell_type": "code",
   "execution_count": 19,
   "metadata": {},
   "outputs": [],
   "source": [
    "# Load the dataset\n",
    "df = pd.read_csv('data.csv')"
   ]
  },
  {
   "cell_type": "code",
   "execution_count": 20,
   "metadata": {},
   "outputs": [],
   "source": [
    "# Shift the 'pm2.5' column to get next hour's PM2.5\n",
    "df['pm2.5_next'] = df['pm2.5'].shift(-1)\n",
    "\n",
    "# Create the binary target variable\n",
    "df['target'] = np.where(df['pm2.5_next'] > 50, 1, 0)\n",
    "\n",
    "# Drop the last row with NaN in 'pm2.5_next' after shift\n",
    "df = df[:-1]"
   ]
  },
  {
   "cell_type": "code",
   "execution_count": 21,
   "metadata": {},
   "outputs": [
    {
     "name": "stdout",
     "output_type": "stream",
     "text": [
      "No               0\n",
      "year             0\n",
      "month            0\n",
      "day              0\n",
      "hour             0\n",
      "pm2.5         2067\n",
      "DEWP             0\n",
      "TEMP             0\n",
      "PRES             0\n",
      "cbwd             0\n",
      "Iws              0\n",
      "Is               0\n",
      "Ir               0\n",
      "pm2.5_next    2066\n",
      "target           0\n",
      "dtype: int64\n"
     ]
    }
   ],
   "source": [
    "# Check missing values\n",
    "print(df.isnull().sum())\n",
    "\n",
    "# Since 'pm2.5' might have missing values, we can fill them using interpolation or drop them\n",
    "df['pm2.5'].interpolate(method='linear', inplace=True)\n",
    "df['pm2.5_next'].interpolate(method='linear', inplace=True)\n",
    "\n",
    "# For any remaining missing values, we can drop them\n",
    "df.dropna(inplace=True)"
   ]
  },
  {
   "cell_type": "code",
   "execution_count": 22,
   "metadata": {},
   "outputs": [],
   "source": [
    "# Encode 'cbwd' using Label Encoding\n",
    "le = LabelEncoder()\n",
    "df['cbwd_encoded'] = le.fit_transform(df['cbwd'])\n",
    "\n",
    "# Drop the original 'cbwd' column\n",
    "df.drop('cbwd', axis=1, inplace=True)"
   ]
  },
  {
   "cell_type": "code",
   "execution_count": 23,
   "metadata": {},
   "outputs": [],
   "source": [
    "# Drop unnecessary columns\n",
    "df.drop(['No', 'pm2.5_next', 'pm2.5'], axis=1, inplace=True)\n",
    "\n",
    "# Features and target\n",
    "X = df.drop('target', axis=1)\n",
    "y = df['target']"
   ]
  },
  {
   "cell_type": "code",
   "execution_count": 24,
   "metadata": {},
   "outputs": [],
   "source": [
    "# Split into training and testing data\n",
    "X_train, X_test, y_train, y_test = train_test_split(X, y, test_size=0.20, random_state=42)"
   ]
  },
  {
   "cell_type": "code",
   "execution_count": 25,
   "metadata": {},
   "outputs": [],
   "source": [
    "# Initialize the scaler\n",
    "scaler = StandardScaler()\n",
    "\n",
    "# Fit only on training data\n",
    "X_train_scaled = scaler.fit_transform(X_train)\n",
    "X_test_scaled = scaler.transform(X_test)"
   ]
  },
  {
   "cell_type": "code",
   "execution_count": 26,
   "metadata": {},
   "outputs": [],
   "source": [
    "# Initialize the model\n",
    "log_reg = LogisticRegression()\n",
    "\n",
    "# Train the model\n",
    "log_reg.fit(X_train_scaled, y_train)\n",
    "\n",
    "# Predict on test data\n",
    "y_pred_log = log_reg.predict(X_test_scaled)"
   ]
  },
  {
   "cell_type": "code",
   "execution_count": 27,
   "metadata": {},
   "outputs": [],
   "source": [
    "# Initialize the model\n",
    "rf_clf = RandomForestClassifier(random_state=42)\n",
    "\n",
    "# Train the model\n",
    "rf_clf.fit(X_train, y_train)\n",
    "\n",
    "# Predict on test data\n",
    "y_pred_rf = rf_clf.predict(X_test)"
   ]
  },
  {
   "cell_type": "code",
   "execution_count": null,
   "metadata": {},
   "outputs": [],
   "source": [
    "# Initialize the model\n",
    "xgb_clf = xgb.XGBClassifier(use_label_encoder=False, eval_metric='logloss', random_state=42)\n",
    "\n",
    "# Train the model\n",
    "xgb_clf.fit(X_train, y_train)\n",
    "\n",
    "# Predict on test data\n",
    "y_pred_xgb = xgb_clf.predict(X_test)"
   ]
  },
  {
   "cell_type": "code",
   "execution_count": 28,
   "metadata": {},
   "outputs": [],
   "source": [
    "# Initialize the model\n",
    "knn_clf = KNeighborsClassifier()\n",
    "\n",
    "# Train the model\n",
    "knn_clf.fit(X_train_scaled, y_train)\n",
    "\n",
    "# Predict on test data\n",
    "y_pred_knn = knn_clf.predict(X_test_scaled)"
   ]
  },
  {
   "cell_type": "code",
   "execution_count": 29,
   "metadata": {},
   "outputs": [],
   "source": [
    "def evaluate_model(y_test, y_pred, y_prob):\n",
    "    f1 = f1_score(y_test, y_pred)\n",
    "    auc_score = roc_auc_score(y_test, y_prob)\n",
    "    print(f'F1 Score: {f1:.4f}')\n",
    "    print(f'AUC ROC Score: {auc_score:.4f}')"
   ]
  },
  {
   "cell_type": "code",
   "execution_count": 30,
   "metadata": {},
   "outputs": [
    {
     "name": "stdout",
     "output_type": "stream",
     "text": [
      "Logistic Regression Performance:\n",
      "F1 Score: 0.8101\n",
      "AUC ROC Score: 0.8009\n"
     ]
    }
   ],
   "source": [
    "# Get predicted probabilities\n",
    "y_prob_log = log_reg.predict_proba(X_test_scaled)[:, 1]\n",
    "\n",
    "print(\"Logistic Regression Performance:\")\n",
    "evaluate_model(y_test, y_pred_log, y_prob_log)"
   ]
  },
  {
   "cell_type": "code",
   "execution_count": 31,
   "metadata": {},
   "outputs": [
    {
     "name": "stdout",
     "output_type": "stream",
     "text": [
      "\n",
      "Random Forest Performance:\n",
      "F1 Score: 0.9056\n",
      "AUC ROC Score: 0.9540\n"
     ]
    }
   ],
   "source": [
    "# Get predicted probabilities\n",
    "y_prob_rf = rf_clf.predict_proba(X_test)[:, 1]\n",
    "\n",
    "print(\"\\nRandom Forest Performance:\")\n",
    "evaluate_model(y_test, y_pred_rf, y_prob_rf)"
   ]
  },
  {
   "cell_type": "code",
   "execution_count": null,
   "metadata": {},
   "outputs": [],
   "source": [
    "# Get predicted probabilities\n",
    "y_prob_xgb = xgb_clf.predict_proba(X_test)[:, 1]\n",
    "\n",
    "print(\"\\nXGBoost Performance:\")\n",
    "evaluate_model(y_test, y_pred_xgb, y_prob_xgb)"
   ]
  },
  {
   "cell_type": "code",
   "execution_count": 32,
   "metadata": {},
   "outputs": [
    {
     "name": "stdout",
     "output_type": "stream",
     "text": [
      "\n",
      "KNN Performance:\n",
      "F1 Score: 0.8777\n",
      "AUC ROC Score: 0.9184\n"
     ]
    }
   ],
   "source": [
    "# Get predicted probabilities\n",
    "y_prob_knn = knn_clf.predict_proba(X_test_scaled)[:, 1]\n",
    "\n",
    "print(\"\\nKNN Performance:\")\n",
    "evaluate_model(y_test, y_pred_knn, y_prob_knn)"
   ]
  }
 ],
 "metadata": {
  "kernelspec": {
   "display_name": ".venv",
   "language": "python",
   "name": "python3"
  },
  "language_info": {
   "codemirror_mode": {
    "name": "ipython",
    "version": 3
   },
   "file_extension": ".py",
   "mimetype": "text/x-python",
   "name": "python",
   "nbconvert_exporter": "python",
   "pygments_lexer": "ipython3",
   "version": "3.10.11"
  }
 },
 "nbformat": 4,
 "nbformat_minor": 2
}
